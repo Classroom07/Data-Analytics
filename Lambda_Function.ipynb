{
  "nbformat": 4,
  "nbformat_minor": 0,
  "metadata": {
    "colab": {
      "provenance": []
    },
    "kernelspec": {
      "name": "python3",
      "display_name": "Python 3"
    },
    "language_info": {
      "name": "python"
    }
  },
  "cells": [
    {
      "cell_type": "markdown",
      "source": [
        "**Lambda Function**"
      ],
      "metadata": {
        "id": "Vj1MoxH8_1Jr"
      }
    },
    {
      "cell_type": "markdown",
      "source": [
        "A lambda function in Python is a small, anonymous function defined with the lambda keyword. It can take any number of arguments but only one expression, which is evaluated and returned automatically."
      ],
      "metadata": {
        "id": "i3nsd8NN_xlT"
      }
    },
    {
      "cell_type": "markdown",
      "source": [
        "| Feature                     | `lambda` Function                                       | `def` (Regular) Function         |\n",
        "| --------------------------- | ------------------------------------------------------- | -------------------------------- |\n",
        "| **Definition Syntax**       | `lambda args: expression`                               | `def name(args): statements`     |\n",
        "| **Name**                    | Anonymous (can be assigned to a name, but not required) | Named explicitly                 |\n",
        "| **Use Case**                | Simple, short functions (usually 1-liners)              | More complex or multi-line logic |\n",
        "| **Number of Expressions**   | Only 1 expression allowed                               | Multiple statements supported    |\n",
        "| **Return**                  | Implicit (automatically returns the expression)         | Explicit (use `return`)          |\n",
        "| **Readability**             | Less readable for complex logic                         | More readable and maintainable   |\n",
        "| **Use with `map`/`filter`** | Frequently used                                         | Possible, but lambda is shorter  |\n",
        "| **Can include docstring?**  | ❌ No                                                    | ✅ Yes                            |\n",
        "| **Supports Annotations?**   | ❌ No                                                    | ✅ Yes                            |\n",
        "| **Can be decorated?**       | ❌ Not easily                                            | ✅ Yes                            |\n"
      ],
      "metadata": {
        "id": "3hH-Z3-1ACSD"
      }
    },
    {
      "cell_type": "markdown",
      "source": [
        "**What is a docstring in Python?**"
      ],
      "metadata": {
        "id": "rlB5IMvwA0wr"
      }
    },
    {
      "cell_type": "markdown",
      "source": [
        "A docstring is a special string used to document what a function, class, or module does. It's written as the first statement inside the function or class, enclosed in triple quotes (\"\"\" or '''), and can span multiple lines."
      ],
      "metadata": {
        "id": "MyRTyyroA86b"
      }
    },
    {
      "cell_type": "code",
      "source": [
        "def greet(name):\n",
        "    \"\"\"This function greets the person with the given name.\"\"\"\n",
        "    return f\"Hello, {name}!\"\n",
        "print(greet.__doc__)"
      ],
      "metadata": {
        "colab": {
          "base_uri": "https://localhost:8080/"
        },
        "id": "X45ckhPDA_b8",
        "outputId": "26fb36bd-2e11-4b28-dcc8-e19aed4c27a3"
      },
      "execution_count": null,
      "outputs": [
        {
          "output_type": "stream",
          "name": "stdout",
          "text": [
            "This function greets the person with the given name.\n"
          ]
        }
      ]
    },
    {
      "cell_type": "markdown",
      "source": [
        "**What are Annotations in Python?**"
      ],
      "metadata": {
        "id": "pAZLhT2aCRug"
      }
    },
    {
      "cell_type": "markdown",
      "source": [
        "Annotations are a way to hint at the data types of function parameters and return values. They do not enforce types (Python is still dynamically typed), but help with:\n",
        "<br><br>\n",
        "1. Code readability <br>\n",
        "2. Static type checking tools like mypy, IDEs <br>\n",
        "3. Documentation <br>"
      ],
      "metadata": {
        "id": "0NnpbyZTB6KQ"
      }
    },
    {
      "cell_type": "code",
      "source": [
        "def add(a: int, b: int) -> int:\n",
        "    return a + b\n"
      ],
      "metadata": {
        "id": "ssl7pMxICLFZ"
      },
      "execution_count": null,
      "outputs": []
    },
    {
      "cell_type": "markdown",
      "source": [
        "Annotations are hints, not rules."
      ],
      "metadata": {
        "id": "sGcaI7iqCVMA"
      }
    },
    {
      "cell_type": "markdown",
      "source": [
        "**What is a Decorator in Python?**"
      ],
      "metadata": {
        "id": "AurGI-yCEnFa"
      }
    },
    {
      "cell_type": "markdown",
      "source": [
        "A decorator is a special function that modifies or enhances another function without changing its actual code.\n",
        "\n",
        "Think of it as wrapping a function to add extra behavior—like logging, timing, access control, etc."
      ],
      "metadata": {
        "id": "orn9ktojEp_J"
      }
    },
    {
      "cell_type": "code",
      "source": [
        "@decorator_name\n",
        "def my_function():\n",
        "    pass\n"
      ],
      "metadata": {
        "id": "LV1-y-3HE4AJ"
      },
      "execution_count": null,
      "outputs": []
    },
    {
      "cell_type": "code",
      "source": [
        "def log_decorator(func):\n",
        "    def wrapper():\n",
        "        print(\"Function is being called.\")\n",
        "        return func()\n",
        "    return wrapper\n",
        "\n",
        "@log_decorator\n",
        "def greet():\n",
        "    print(\"Hello!\")\n",
        "\n",
        "greet()\n"
      ],
      "metadata": {
        "colab": {
          "base_uri": "https://localhost:8080/"
        },
        "id": "jcNFE9ZYE8Ay",
        "outputId": "0e2ec5e0-fa5d-4809-dfc1-c62009832315"
      },
      "execution_count": null,
      "outputs": [
        {
          "output_type": "stream",
          "name": "stdout",
          "text": [
            "Function is being called.\n",
            "Hello!\n"
          ]
        }
      ]
    },
    {
      "cell_type": "markdown",
      "source": [
        "**lambda Example:**"
      ],
      "metadata": {
        "id": "gRPKDZZ-Ajnb"
      }
    },
    {
      "cell_type": "code",
      "execution_count": null,
      "metadata": {
        "id": "iVBYqxeY_UX5"
      },
      "outputs": [],
      "source": [
        "square = lambda x: x * x\n",
        "print(square(4))"
      ]
    },
    {
      "cell_type": "markdown",
      "source": [
        "**function Example**"
      ],
      "metadata": {
        "id": "3OyO1q6fApa6"
      }
    },
    {
      "cell_type": "code",
      "source": [
        "def square(x):\n",
        "    return x * x\n",
        "print(square(4))"
      ],
      "metadata": {
        "colab": {
          "base_uri": "https://localhost:8080/"
        },
        "id": "TPiQxVVVAr9r",
        "outputId": "c06a3b6d-c85a-4b2c-9e19-ef0025d8902e"
      },
      "execution_count": null,
      "outputs": [
        {
          "output_type": "stream",
          "name": "stdout",
          "text": [
            "16\n"
          ]
        }
      ]
    },
    {
      "cell_type": "markdown",
      "source": [
        "<br><br><br><br> <hr> <br><br><br><br><br>"
      ],
      "metadata": {
        "id": "cG9VVCPLDCP0"
      }
    },
    {
      "cell_type": "code",
      "source": [
        "# General Syntax\n",
        "# lambda arguments : expression"
      ],
      "metadata": {
        "id": "3VE_YIYRDI5r"
      },
      "execution_count": null,
      "outputs": []
    },
    {
      "cell_type": "code",
      "source": [
        "square = lambda  x : x * x\n",
        "print(square(10))"
      ],
      "metadata": {
        "colab": {
          "base_uri": "https://localhost:8080/"
        },
        "id": "eeQABsFmDfAV",
        "outputId": "2b6f6958-a651-4d2e-be32-8cdef3faf2b2"
      },
      "execution_count": null,
      "outputs": [
        {
          "output_type": "stream",
          "name": "stdout",
          "text": [
            "100\n"
          ]
        }
      ]
    },
    {
      "cell_type": "code",
      "source": [
        "addition = lambda a , b : a + b\n",
        "print(addition(10,20))"
      ],
      "metadata": {
        "colab": {
          "base_uri": "https://localhost:8080/"
        },
        "id": "4mCahVfwDRpN",
        "outputId": "5af4fde6-94b9-4165-d3ec-ff932b90b25f"
      },
      "execution_count": null,
      "outputs": [
        {
          "output_type": "stream",
          "name": "stdout",
          "text": [
            "30\n"
          ]
        }
      ]
    },
    {
      "cell_type": "markdown",
      "source": [
        "**Use with map() or filter():**"
      ],
      "metadata": {
        "id": "FBNGUuRJDqu-"
      }
    },
    {
      "cell_type": "code",
      "source": [
        "nums = [1, 2, 3, 4]\n",
        "squared = list(map(lambda x: x*x, nums))\n",
        "print(squared)"
      ],
      "metadata": {
        "colab": {
          "base_uri": "https://localhost:8080/"
        },
        "id": "d4kPk9pIDsBF",
        "outputId": "8463a18b-fc56-4a0f-95f4-f15722f8a15c"
      },
      "execution_count": null,
      "outputs": [
        {
          "output_type": "stream",
          "name": "stdout",
          "text": [
            "[1, 4, 9, 16]\n"
          ]
        }
      ]
    },
    {
      "cell_type": "markdown",
      "source": [
        "**Classroom Tech** <br>\n",
        "📩 Email: classroomtech.in@gmail.com <br>\n",
        "📞 Contact: 8981838547 <br>\n",
        "👨‍🏫 Satyaki Das, Founder & Educator <br>\n",
        "© 2025 Classroom Tech. All rights reserved. <br>"
      ],
      "metadata": {
        "id": "7c9dyEsKGQAN"
      }
    }
  ]
}