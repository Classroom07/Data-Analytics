{
  "nbformat": 4,
  "nbformat_minor": 0,
  "metadata": {
    "colab": {
      "provenance": [],
      "authorship_tag": "ABX9TyOSwdBUXGBEp7nrmx8OI2Yc",
      "include_colab_link": true
    },
    "kernelspec": {
      "name": "python3",
      "display_name": "Python 3"
    },
    "language_info": {
      "name": "python"
    }
  },
  "cells": [
    {
      "cell_type": "markdown",
      "metadata": {
        "id": "view-in-github",
        "colab_type": "text"
      },
      "source": [
        "<a href=\"https://colab.research.google.com/github/Classroom07/Data-Analytics/blob/main/filter()_function_.ipynb\" target=\"_parent\"><img src=\"https://colab.research.google.com/assets/colab-badge.svg\" alt=\"Open In Colab\"/></a>"
      ]
    },
    {
      "cell_type": "markdown",
      "source": [
        "**The filter() Function in Python**"
      ],
      "metadata": {
        "id": "lfnw-SByQJ2p"
      }
    },
    {
      "cell_type": "markdown",
      "source": [
        "The filter() function is used to filter elements from an iterable (like a list) based on a condition (a function that returns True or False for each item)."
      ],
      "metadata": {
        "id": "PvRaHFskQUGR"
      }
    },
    {
      "cell_type": "code",
      "execution_count": null,
      "metadata": {
        "id": "e1aAWUw4QF9i"
      },
      "outputs": [],
      "source": [
        "# General Syntax\n",
        "# filter(function, iterable)"
      ]
    },
    {
      "cell_type": "markdown",
      "source": [
        "function: Returns True if the item should be included <br>\n",
        "iterable: A sequence to filter <br>"
      ],
      "metadata": {
        "id": "ovhWeSoaQdWC"
      }
    },
    {
      "cell_type": "markdown",
      "source": [
        "**Example 1: Filter even numbers**"
      ],
      "metadata": {
        "id": "SbINYKIIR98z"
      }
    },
    {
      "cell_type": "code",
      "source": [
        "nums = [1, 2, 3, 4, 5, 6]\n",
        "evens = list(filter(lambda x: x % 2 == 0, nums))\n",
        "print(evens)"
      ],
      "metadata": {
        "colab": {
          "base_uri": "https://localhost:8080/"
        },
        "id": "2Cs0LNYjR0Qj",
        "outputId": "ba809124-827c-4b79-960c-52527ff17dc7"
      },
      "execution_count": null,
      "outputs": [
        {
          "output_type": "stream",
          "name": "stdout",
          "text": [
            "[2, 4, 6]\n"
          ]
        }
      ]
    },
    {
      "cell_type": "markdown",
      "source": [
        "**Example 2: Filter non-empty strings**"
      ],
      "metadata": {
        "id": "koFLRRXnSQZt"
      }
    },
    {
      "cell_type": "code",
      "source": [
        "words = [\"hello\", \"\", \"world\", \"\", \"python\"]\n",
        "non_empty = list(filter(lambda x: x != \"\", words))\n",
        "print(non_empty)"
      ],
      "metadata": {
        "colab": {
          "base_uri": "https://localhost:8080/"
        },
        "id": "hs0nLsTCSSED",
        "outputId": "f4f7b5d4-8820-47ba-d7a3-ab53f37938e3"
      },
      "execution_count": null,
      "outputs": [
        {
          "output_type": "stream",
          "name": "stdout",
          "text": [
            "['hello', 'world', 'python']\n"
          ]
        }
      ]
    },
    {
      "cell_type": "markdown",
      "source": [
        "**Example 3: Use with defined function**"
      ],
      "metadata": {
        "id": "innLgF7oSY9s"
      }
    },
    {
      "cell_type": "code",
      "source": [
        "def is_positive(num):\n",
        "    return num > 0\n",
        "\n",
        "numbers = [-5, 3, 0, -2, 7]\n",
        "positives = list(filter(is_positive, numbers))\n",
        "print(positives)"
      ],
      "metadata": {
        "colab": {
          "base_uri": "https://localhost:8080/"
        },
        "id": "IJd2dyrKSXvc",
        "outputId": "9ae60e69-91de-4367-98eb-bfc6a98ea0ee"
      },
      "execution_count": null,
      "outputs": [
        {
          "output_type": "stream",
          "name": "stdout",
          "text": [
            "[3, 7]\n"
          ]
        }
      ]
    },
    {
      "cell_type": "markdown",
      "source": [
        "**Greater than 5**"
      ],
      "metadata": {
        "id": "3ivilJwsnT9Y"
      }
    },
    {
      "cell_type": "code",
      "source": [
        "numbers = [1,2,3,4,5,6,7,8,9,10]\n",
        "greaterThan5 = list(filter(lambda x: x > 5, numbers))\n",
        "print(greaterThan5)"
      ],
      "metadata": {
        "colab": {
          "base_uri": "https://localhost:8080/"
        },
        "id": "69tnfx06nCrK",
        "outputId": "0d5cb1b8-3164-4a55-bbc1-0fff95dbe0af"
      },
      "execution_count": 1,
      "outputs": [
        {
          "output_type": "stream",
          "name": "stdout",
          "text": [
            "[6, 7, 8, 9, 10]\n"
          ]
        }
      ]
    },
    {
      "cell_type": "markdown",
      "source": [
        "**Greater than 5 and even number**"
      ],
      "metadata": {
        "id": "873pZmsqnPnQ"
      }
    },
    {
      "cell_type": "code",
      "source": [
        "numbers = [1,2,3,4,5,6,7,8,9,10]\n",
        "greaterThan5 = list(filter(lambda x: x > 5 and x % 2 == 0, numbers))\n",
        "print(greaterThan5)"
      ],
      "metadata": {
        "colab": {
          "base_uri": "https://localhost:8080/"
        },
        "id": "IlhVmU5vnLZI",
        "outputId": "abfaf823-f8ea-4fe6-8865-cacc0af16195"
      },
      "execution_count": 2,
      "outputs": [
        {
          "output_type": "stream",
          "name": "stdout",
          "text": [
            "[6, 8, 10]\n"
          ]
        }
      ]
    },
    {
      "cell_type": "markdown",
      "source": [
        "**Apply filter() on dictionary**"
      ],
      "metadata": {
        "id": "8CtRzmm6nWj4"
      }
    },
    {
      "cell_type": "code",
      "source": [
        "people = [\n",
        "    {'name': 'John', 'age': 25},\n",
        "    {'name': 'Jane', 'age': 30},\n",
        "    {'name': 'Bob', 'age': 20}\n",
        "]\n",
        "\n",
        "def check(person):\n",
        "    return person['age'] >= 25\n",
        "\n",
        "adults = list(filter(check, people))\n",
        "print(adults)\n"
      ],
      "metadata": {
        "colab": {
          "base_uri": "https://localhost:8080/"
        },
        "id": "4no1rZXknaf_",
        "outputId": "38f6f14c-4835-4527-f3fe-0e1e40e73878"
      },
      "execution_count": 3,
      "outputs": [
        {
          "output_type": "stream",
          "name": "stdout",
          "text": [
            "[{'name': 'John', 'age': 25}, {'name': 'Jane', 'age': 30}]\n"
          ]
        }
      ]
    },
    {
      "cell_type": "markdown",
      "source": [
        "Key Points: <br>\n",
        "1. Returns only elements for which the function returns True <br>\n",
        "2. Returns a filter object — wrap with list() or set() to view <br>\n",
        "3. Works great with lambda or defined functions <br>"
      ],
      "metadata": {
        "id": "rGmk99TqSjJc"
      }
    },
    {
      "cell_type": "markdown",
      "source": [
        "🆚 map() vs filter():"
      ],
      "metadata": {
        "id": "WhGzAGs6Sz00"
      }
    },
    {
      "cell_type": "markdown",
      "source": [],
      "metadata": {
        "id": "xoIafOJtp6vP"
      }
    },
    {
      "cell_type": "markdown",
      "source": [
        "| Feature  | `map()`                                | `filter()`                       |\n",
        "| -------- | -------------------------------------- | -------------------------------- |\n",
        "| Purpose  | Transforms each item                   | Filters items based on condition |\n",
        "| Returns  | Same number of items                   | Fewer or equal number of items   |\n",
        "| Function | Must return a value (transformed item) | Must return `True`/`False`       |\n"
      ],
      "metadata": {
        "id": "zSucoaq4StkE"
      }
    },
    {
      "cell_type": "markdown",
      "source": [
        "The filter() function is a powerful tool for creating iterators that filter items out of an iterable based on a function. It is commonly used for data cleaning, filtering objects, and removing unwanted elements from lists. By mastering filter(), you can write more concise and efficient code for processing and manipulating collections in Python."
      ],
      "metadata": {
        "id": "KQcfxW2Wnu1X"
      }
    }
  ]
}