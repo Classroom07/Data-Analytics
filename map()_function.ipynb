{
  "nbformat": 4,
  "nbformat_minor": 0,
  "metadata": {
    "colab": {
      "provenance": []
    },
    "kernelspec": {
      "name": "python3",
      "display_name": "Python 3"
    },
    "language_info": {
      "name": "python"
    }
  },
  "cells": [
    {
      "cell_type": "markdown",
      "source": [
        "**What is map() function in python?**"
      ],
      "metadata": {
        "id": "HZ9Aqik6KJmI"
      }
    },
    {
      "cell_type": "markdown",
      "source": [
        "The map() function applies a given function to each item in an iterable (like a list, tuple, etc.) and returns a map object (which can be converted to a list, set, etc.)."
      ],
      "metadata": {
        "id": "USgg1wQ3KTwQ"
      }
    },
    {
      "cell_type": "code",
      "source": [
        "map(function, iterable)"
      ],
      "metadata": {
        "id": "VrbZXsh-KY5X"
      },
      "execution_count": null,
      "outputs": []
    },
    {
      "cell_type": "markdown",
      "source": [
        "function: A function (like lambda x: x*2) <br>\n",
        "iterable: A sequence (like [1, 2, 3]) <br>"
      ],
      "metadata": {
        "id": "8lxFycELKbZA"
      }
    },
    {
      "cell_type": "markdown",
      "source": [
        "<br><br><br><br> <hr> <br><br><br><br>"
      ],
      "metadata": {
        "id": "DTmNqqhnLK5i"
      }
    },
    {
      "cell_type": "markdown",
      "source": [
        "**Example 1: Double each number**"
      ],
      "metadata": {
        "id": "ud7TJSamLRmZ"
      }
    },
    {
      "cell_type": "code",
      "source": [
        "nums = [1, 2, 3, 4]\n",
        "doubled = list(map(lambda x: x * 2, nums))\n",
        "print(doubled)  # Output: [2, 4, 6, 8]"
      ],
      "metadata": {
        "colab": {
          "base_uri": "https://localhost:8080/"
        },
        "id": "7y7YPXImLUsR",
        "outputId": "2468a915-9c80-46f7-de94-106d7ff8bb01"
      },
      "execution_count": 1,
      "outputs": [
        {
          "output_type": "stream",
          "name": "stdout",
          "text": [
            "[2, 4, 6, 8]\n"
          ]
        }
      ]
    },
    {
      "cell_type": "markdown",
      "source": [
        "**Example 2: Convert strings to uppercase**"
      ],
      "metadata": {
        "id": "ycnEs544LULp"
      }
    },
    {
      "cell_type": "code",
      "source": [
        "names = ['satyaki', 'classroom', 'tech']\n",
        "upper_names = list(map(str.upper, names))\n",
        "print(upper_names)  # Output: ['SATYAKI', 'CLASSROOM', 'TECH']"
      ],
      "metadata": {
        "colab": {
          "base_uri": "https://localhost:8080/"
        },
        "id": "y6BmnX3-LbAK",
        "outputId": "df404522-8f34-4f50-b55a-4bdbf4321dae"
      },
      "execution_count": 2,
      "outputs": [
        {
          "output_type": "stream",
          "name": "stdout",
          "text": [
            "['SATYAKI', 'CLASSROOM', 'TECH']\n"
          ]
        }
      ]
    },
    {
      "cell_type": "markdown",
      "source": [
        "**Example 3: Use with a defined function**"
      ],
      "metadata": {
        "id": "bnzCoZO4LhFi"
      }
    },
    {
      "cell_type": "code",
      "source": [
        "def square(n):\n",
        "    return n * n\n",
        "\n",
        "numbers = [1, 2, 3]\n",
        "result = list(map(square, numbers))\n",
        "print(result)  # Output: [1, 4, 9]"
      ],
      "metadata": {
        "colab": {
          "base_uri": "https://localhost:8080/"
        },
        "id": "iQ8eqLfoLjK7",
        "outputId": "9dd53cbd-6b33-49d5-eb68-8eed56606e89"
      },
      "execution_count": 3,
      "outputs": [
        {
          "output_type": "stream",
          "name": "stdout",
          "text": [
            "[1, 4, 9]\n"
          ]
        }
      ]
    },
    {
      "cell_type": "code",
      "source": [
        "num1 = [1,2,3,4]\n",
        "num2 = [5,6,7,8]\n",
        "result = list(map(lambda x,y: x+y, num1,num2))\n",
        "print(result)"
      ],
      "metadata": {
        "colab": {
          "base_uri": "https://localhost:8080/"
        },
        "id": "0SlvbR-_MOqF",
        "outputId": "49c49a97-71d8-4d5f-e66e-e079ce01f7e6"
      },
      "execution_count": 4,
      "outputs": [
        {
          "output_type": "stream",
          "name": "stdout",
          "text": [
            "[6, 8, 10, 12]\n"
          ]
        }
      ]
    },
    {
      "cell_type": "code",
      "source": [
        "words = ['satyaki', 'classroom', 'tech']\n",
        "upper_words = list(map(str.upper, words))\n",
        "print(upper_words)"
      ],
      "metadata": {
        "colab": {
          "base_uri": "https://localhost:8080/"
        },
        "id": "xMq7LCOxMsYN",
        "outputId": "fb49bdbb-d079-41af-8873-53a7245403dd"
      },
      "execution_count": 5,
      "outputs": [
        {
          "output_type": "stream",
          "name": "stdout",
          "text": [
            "['SATYAKI', 'CLASSROOM', 'TECH']\n"
          ]
        }
      ]
    },
    {
      "cell_type": "code",
      "source": [
        "def get_name(person):\n",
        "  return person['name']\n",
        "people = [\n",
        "    {'name': 'Satyaki',\n",
        "     'age' : 28},\n",
        "    {'name': 'Shan',\n",
        "     'age' : 29},\n",
        "]\n",
        "print(list(map(get_name, people)))"
      ],
      "metadata": {
        "colab": {
          "base_uri": "https://localhost:8080/"
        },
        "id": "ff_ND-EYM3Tu",
        "outputId": "76b82341-c86b-43b8-bcbc-4450f9c3aed8"
      },
      "execution_count": 7,
      "outputs": [
        {
          "output_type": "stream",
          "name": "stdout",
          "text": [
            "['Satyaki', 'Shan']\n"
          ]
        }
      ]
    },
    {
      "cell_type": "markdown",
      "source": [
        "Key Points: <br>\n",
        "1. Does not change the original list <br>\n",
        "2. Returns a map object, so wrap with list() to see results <br>\n",
        "3. Works well with lambda, def, or built-in functions <br>"
      ],
      "metadata": {
        "id": "rupebDnJLqLS"
      }
    },
    {
      "cell_type": "markdown",
      "source": [
        "**Classroom Tech** <br>\n",
        "📩 Email: classroomtech.in@gmail.com <br>\n",
        "📞 Contact: 8981838547 <br>\n",
        "👨‍🏫 Satyaki Das, Founder & Educator <br>\n",
        "© 2025 Classroom Tech. All rights reserved. <br>"
      ],
      "metadata": {
        "id": "Ec3Dk3PsNmQH"
      }
    }
  ]
}