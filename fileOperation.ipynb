{
  "nbformat": 4,
  "nbformat_minor": 0,
  "metadata": {
    "colab": {
      "provenance": [],
      "authorship_tag": "ABX9TyPqHgMOV88PWcp3PSm4UiCy",
      "include_colab_link": true
    },
    "kernelspec": {
      "name": "python3",
      "display_name": "Python 3"
    },
    "language_info": {
      "name": "python"
    }
  },
  "cells": [
    {
      "cell_type": "markdown",
      "metadata": {
        "id": "view-in-github",
        "colab_type": "text"
      },
      "source": [
        "<a href=\"https://colab.research.google.com/github/Classroom07/Data-Analytics/blob/main/fileOperation.ipynb\" target=\"_parent\"><img src=\"https://colab.research.google.com/assets/colab-badge.svg\" alt=\"Open In Colab\"/></a>"
      ]
    },
    {
      "cell_type": "code",
      "execution_count": 2,
      "metadata": {
        "colab": {
          "base_uri": "https://localhost:8080/"
        },
        "id": "uQliu8WIs0p3",
        "outputId": "d746cd08-159a-45e2-cc74-7d8ea4f38a2b"
      },
      "outputs": [
        {
          "output_type": "stream",
          "name": "stdout",
          "text": [
            "Mounted at /content/drive\n"
          ]
        }
      ],
      "source": [
        "from google.colab import drive\n",
        "drive.mount('/content/drive')"
      ]
    },
    {
      "cell_type": "markdown",
      "source": [
        "**What is File Handling in Python?**"
      ],
      "metadata": {
        "id": "TZqRh8lBtrSW"
      }
    },
    {
      "cell_type": "markdown",
      "source": [
        "File handling in Python refers to the process of creating, reading, writing, and modifying files (like .txt, .csv, etc.) using Python code.\n",
        "\n",
        "This allows you to store data permanently (beyond just temporary variables) and interact with files on your system."
      ],
      "metadata": {
        "id": "A1fdojURtwMF"
      }
    },
    {
      "cell_type": "markdown",
      "source": [
        "| Mode  | Description                                                         |\n",
        "| ----- | ------------------------------------------------------------------- |\n",
        "| `'r'` | Read (default mode) — error if file doesn’t exist                   |\n",
        "| `'w'` | Write — creates file if it doesn’t exist, **overwrites** if it does |\n",
        "| `'a'` | Append — adds content to the end of file                            |\n",
        "| `'x'` | Create — creates a new file, error if it exists                     |\n",
        "| `'b'` | Binary mode (e.g., `'rb'`, `'wb'`)                                  |\n",
        "| `'t'` | Text mode (default)                                                 |\n"
      ],
      "metadata": {
        "id": "XS40bbyYt069"
      }
    },
    {
      "cell_type": "markdown",
      "source": [
        "**Writing to a file**"
      ],
      "metadata": {
        "id": "Q3qHdfcHuDnt"
      }
    },
    {
      "cell_type": "code",
      "source": [
        "file = open(\"example.txt\", \"w\")\n",
        "file.write(\"Hello, Python file!\")\n",
        "file.close()"
      ],
      "metadata": {
        "id": "CiDnqNR2tu3e"
      },
      "execution_count": 7,
      "outputs": []
    },
    {
      "cell_type": "markdown",
      "source": [
        "**Reading a file**"
      ],
      "metadata": {
        "id": "hE_sc_AGuLLt"
      }
    },
    {
      "cell_type": "code",
      "source": [
        "file = open(\"example.txt\", \"r\")\n",
        "content = file.read()\n",
        "print(content)\n",
        "file.close()"
      ],
      "metadata": {
        "colab": {
          "base_uri": "https://localhost:8080/"
        },
        "id": "3qRB14kzuAi2",
        "outputId": "c70b892e-46ab-4821-d6c3-952bd12b3953"
      },
      "execution_count": 8,
      "outputs": [
        {
          "output_type": "stream",
          "name": "stdout",
          "text": [
            "Hello, Python file!\n"
          ]
        }
      ]
    },
    {
      "cell_type": "markdown",
      "source": [
        "**Appending to a file**"
      ],
      "metadata": {
        "id": "FoD9ivj_va7U"
      }
    },
    {
      "cell_type": "code",
      "source": [
        "file = open(\"example.txt\", \"a\")\n",
        "file.write(\"\\nThis is a new line.\")\n",
        "file.close()\n",
        "\n",
        "file = open(\"example.txt\", \"r\")\n",
        "content = file.read()\n",
        "print(content)\n",
        "file.close()"
      ],
      "metadata": {
        "colab": {
          "base_uri": "https://localhost:8080/"
        },
        "id": "sjFZy0lxvcb6",
        "outputId": "92706053-c46d-49c7-c80d-a4715c12e991"
      },
      "execution_count": 9,
      "outputs": [
        {
          "output_type": "stream",
          "name": "stdout",
          "text": [
            "Hello, Python file!\n",
            "This is a new line.\n"
          ]
        }
      ]
    },
    {
      "cell_type": "markdown",
      "source": [
        "**Using with block (Best Practice)**"
      ],
      "metadata": {
        "id": "RWlNbedwvwmy"
      }
    },
    {
      "cell_type": "code",
      "source": [
        "with open(\"example.txt\", \"r\") as file:\n",
        "    content = file.read()\n",
        "    print(content)"
      ],
      "metadata": {
        "colab": {
          "base_uri": "https://localhost:8080/"
        },
        "id": "GfqmwlpQvyfp",
        "outputId": "6d23639f-34b6-48c3-cf79-b9a2ea763c88"
      },
      "execution_count": 10,
      "outputs": [
        {
          "output_type": "stream",
          "name": "stdout",
          "text": [
            "Hello, Python file!\n",
            "This is a new line.\n"
          ]
        }
      ]
    },
    {
      "cell_type": "markdown",
      "source": [
        "**Line by line access**"
      ],
      "metadata": {
        "id": "Ux7nS8xLwWF5"
      }
    },
    {
      "cell_type": "code",
      "source": [
        "with open(\"example.txt\", \"r\") as file:\n",
        "    for line in file:\n",
        "        print(line.strip())"
      ],
      "metadata": {
        "colab": {
          "base_uri": "https://localhost:8080/"
        },
        "id": "VhVBnGjEwYQg",
        "outputId": "e71e79a1-1f1b-4697-f2c4-2e8f69a20180"
      },
      "execution_count": 11,
      "outputs": [
        {
          "output_type": "stream",
          "name": "stdout",
          "text": [
            "Hello, Python file!\n",
            "This is a new line.\n"
          ]
        }
      ]
    },
    {
      "cell_type": "markdown",
      "source": [
        "**Writing a list of lines in a file.**"
      ],
      "metadata": {
        "id": "rYPhuRkBxGa4"
      }
    },
    {
      "cell_type": "code",
      "source": [],
      "metadata": {
        "id": "L8AGFMNrxJ6Q"
      },
      "execution_count": null,
      "outputs": []
    },
    {
      "cell_type": "markdown",
      "source": [
        "Why is File Handling Important? <br>\n",
        "1. To store user data (logs, preferences, records) <br>\n",
        "2. For data processing (reading CSVs, config files, etc.) <br>\n",
        "3. To export results (report generation, file-based outputs) <br>\n",
        "4. Used heavily in web, data science, and automation tasks <br>"
      ],
      "metadata": {
        "id": "2JEsWlXuv3sh"
      }
    }
  ]
}