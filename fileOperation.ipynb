{
  "nbformat": 4,
  "nbformat_minor": 0,
  "metadata": {
    "colab": {
      "provenance": [],
      "authorship_tag": "ABX9TyO2cwbMzfykhDRTurW09d68",
      "include_colab_link": true
    },
    "kernelspec": {
      "name": "python3",
      "display_name": "Python 3"
    },
    "language_info": {
      "name": "python"
    }
  },
  "cells": [
    {
      "cell_type": "markdown",
      "metadata": {
        "id": "view-in-github",
        "colab_type": "text"
      },
      "source": [
        "<a href=\"https://colab.research.google.com/github/Classroom07/Data-Analytics/blob/main/fileOperation.ipynb\" target=\"_parent\"><img src=\"https://colab.research.google.com/assets/colab-badge.svg\" alt=\"Open In Colab\"/></a>"
      ]
    },
    {
      "cell_type": "code",
      "execution_count": 2,
      "metadata": {
        "colab": {
          "base_uri": "https://localhost:8080/"
        },
        "id": "uQliu8WIs0p3",
        "outputId": "d746cd08-159a-45e2-cc74-7d8ea4f38a2b"
      },
      "outputs": [
        {
          "output_type": "stream",
          "name": "stdout",
          "text": [
            "Mounted at /content/drive\n"
          ]
        }
      ],
      "source": [
        "from google.colab import drive\n",
        "drive.mount('/content/drive')"
      ]
    },
    {
      "cell_type": "markdown",
      "source": [
        "**What is File Handling in Python?**"
      ],
      "metadata": {
        "id": "TZqRh8lBtrSW"
      }
    },
    {
      "cell_type": "markdown",
      "source": [
        "File handling in Python refers to the process of creating, reading, writing, and modifying files (like .txt, .csv, etc.) using Python code.\n",
        "\n",
        "This allows you to store data permanently (beyond just temporary variables) and interact with files on your system."
      ],
      "metadata": {
        "id": "A1fdojURtwMF"
      }
    },
    {
      "cell_type": "markdown",
      "source": [
        "| Mode  | Description                                                         |\n",
        "| ----- | ------------------------------------------------------------------- |\n",
        "| `'r'` | Read (default mode) — error if file doesn’t exist                   |\n",
        "| `'w'` | Write — creates file if it doesn’t exist, **overwrites** if it does |\n",
        "| `'a'` | Append — adds content to the end of file                            |\n",
        "| `'x'` | Create — creates a new file, error if it exists                     |\n",
        "| `'b'` | Binary mode (e.g., `'rb'`, `'wb'`)                                  |\n",
        "| `'t'` | Text mode (default)                                                 |\n"
      ],
      "metadata": {
        "id": "XS40bbyYt069"
      }
    },
    {
      "cell_type": "markdown",
      "source": [
        "**Writing to a file**"
      ],
      "metadata": {
        "id": "Q3qHdfcHuDnt"
      }
    },
    {
      "cell_type": "code",
      "source": [
        "file = open(\"example.txt\", \"w\")\n",
        "file.write(\"Hello, Python file!\")\n",
        "file.close()"
      ],
      "metadata": {
        "id": "CiDnqNR2tu3e"
      },
      "execution_count": 7,
      "outputs": []
    },
    {
      "cell_type": "markdown",
      "source": [
        "**Reading a file**"
      ],
      "metadata": {
        "id": "hE_sc_AGuLLt"
      }
    },
    {
      "cell_type": "code",
      "source": [
        "file = open(\"example.txt\", \"r\")\n",
        "content = file.read()\n",
        "print(content)\n",
        "file.close()"
      ],
      "metadata": {
        "colab": {
          "base_uri": "https://localhost:8080/"
        },
        "id": "3qRB14kzuAi2",
        "outputId": "c70b892e-46ab-4821-d6c3-952bd12b3953"
      },
      "execution_count": 8,
      "outputs": [
        {
          "output_type": "stream",
          "name": "stdout",
          "text": [
            "Hello, Python file!\n"
          ]
        }
      ]
    },
    {
      "cell_type": "markdown",
      "source": [
        "**Appending to a file**"
      ],
      "metadata": {
        "id": "FoD9ivj_va7U"
      }
    },
    {
      "cell_type": "code",
      "source": [
        "file = open(\"example.txt\", \"a\")\n",
        "file.write(\"\\nThis is a new line.\")\n",
        "file.close()\n",
        "\n",
        "file = open(\"example.txt\", \"r\")\n",
        "content = file.read()\n",
        "print(content)\n",
        "file.close()"
      ],
      "metadata": {
        "colab": {
          "base_uri": "https://localhost:8080/"
        },
        "id": "sjFZy0lxvcb6",
        "outputId": "92706053-c46d-49c7-c80d-a4715c12e991"
      },
      "execution_count": 9,
      "outputs": [
        {
          "output_type": "stream",
          "name": "stdout",
          "text": [
            "Hello, Python file!\n",
            "This is a new line.\n"
          ]
        }
      ]
    },
    {
      "cell_type": "markdown",
      "source": [
        "**Using with block (Best Practice)**"
      ],
      "metadata": {
        "id": "RWlNbedwvwmy"
      }
    },
    {
      "cell_type": "code",
      "source": [
        "with open(\"example.txt\", \"r\") as file:\n",
        "    content = file.read()\n",
        "    print(content)"
      ],
      "metadata": {
        "colab": {
          "base_uri": "https://localhost:8080/"
        },
        "id": "GfqmwlpQvyfp",
        "outputId": "6d23639f-34b6-48c3-cf79-b9a2ea763c88"
      },
      "execution_count": 10,
      "outputs": [
        {
          "output_type": "stream",
          "name": "stdout",
          "text": [
            "Hello, Python file!\n",
            "This is a new line.\n"
          ]
        }
      ]
    },
    {
      "cell_type": "markdown",
      "source": [
        "**Line by line access**"
      ],
      "metadata": {
        "id": "Ux7nS8xLwWF5"
      }
    },
    {
      "cell_type": "code",
      "source": [
        "with open(\"example.txt\", \"r\") as file:\n",
        "    for line in file:\n",
        "        print(line.strip())"
      ],
      "metadata": {
        "colab": {
          "base_uri": "https://localhost:8080/"
        },
        "id": "VhVBnGjEwYQg",
        "outputId": "e71e79a1-1f1b-4697-f2c4-2e8f69a20180"
      },
      "execution_count": 11,
      "outputs": [
        {
          "output_type": "stream",
          "name": "stdout",
          "text": [
            "Hello, Python file!\n",
            "This is a new line.\n"
          ]
        }
      ]
    },
    {
      "cell_type": "markdown",
      "source": [
        "**Writing a list of lines in a file.**"
      ],
      "metadata": {
        "id": "rYPhuRkBxGa4"
      }
    },
    {
      "cell_type": "code",
      "source": [
        "lines = [\"Line 1\", \"Line 2\", \"Line 3\"]\n",
        "\n",
        "with open(\"demofile.txt\", \"w\") as file:\n",
        "    for line in lines:\n",
        "        file.write(line + \"\\n\")\n",
        "\n",
        "file = open(\"demofile.txt\", \"r\")\n",
        "content = file.read()\n",
        "print(content)\n",
        "file.close()"
      ],
      "metadata": {
        "colab": {
          "base_uri": "https://localhost:8080/"
        },
        "id": "L8AGFMNrxJ6Q",
        "outputId": "0e8a17c5-be81-4726-a80b-dea175e99da2"
      },
      "execution_count": 13,
      "outputs": [
        {
          "output_type": "stream",
          "name": "stdout",
          "text": [
            "Line 1\n",
            "Line 2\n",
            "Line 3\n",
            "\n"
          ]
        }
      ]
    },
    {
      "cell_type": "markdown",
      "source": [
        "**Read the content from a source text file and write to a destination text file.**"
      ],
      "metadata": {
        "id": "iYEU8ZGkxvMn"
      }
    },
    {
      "cell_type": "code",
      "source": [
        "with open(\"example.txt\", \"r\") as source_file:\n",
        "    content = source_file.read()\n",
        "\n",
        "with open(\"destination.txt\", \"w\") as destination_file:\n",
        "    destination_file.write(content)\n",
        "\n",
        "file = open(\"destination.txt\", \"r\")\n",
        "content = file.read()\n",
        "print(content)\n",
        "file.close()"
      ],
      "metadata": {
        "colab": {
          "base_uri": "https://localhost:8080/"
        },
        "id": "HS5Gd2A0x4W-",
        "outputId": "36bb8432-cbab-42d2-cf36-8fede2518467"
      },
      "execution_count": 14,
      "outputs": [
        {
          "output_type": "stream",
          "name": "stdout",
          "text": [
            "Hello, Python file!\n",
            "This is a new line.\n"
          ]
        }
      ]
    },
    {
      "cell_type": "markdown",
      "source": [
        "**Read a text file and count the number of lines, words, and characters.**<br>\n",
        "<b>Counting lines, words, and characters in a text file. </b>"
      ],
      "metadata": {
        "id": "9wGK_49ZzA_W"
      }
    },
    {
      "cell_type": "code",
      "source": [
        "def count_file_stats(file_path):\n",
        "    lines = 0\n",
        "    words = 0\n",
        "    characters = 0\n",
        "    with open(file_path, 'r') as file:\n",
        "        for line in file:\n",
        "            lines += 1\n",
        "            words += len(line.split())\n",
        "            characters += len(line)\n",
        "    return lines, words, characters\n",
        "\n",
        "file_path = \"example.txt\"\n",
        "lines, words, characters = count_file_stats(file_path)\n",
        "print(f\"Lines: {lines}, Words: {words}, Characters: {characters}\")"
      ],
      "metadata": {
        "colab": {
          "base_uri": "https://localhost:8080/"
        },
        "id": "Ko_a9XXLzZYd",
        "outputId": "c6c0c5d8-33a7-4d00-bea9-55b94489dc93"
      },
      "execution_count": 15,
      "outputs": [
        {
          "output_type": "stream",
          "name": "stdout",
          "text": [
            "Lines: 2, Words: 8, Characters: 39\n"
          ]
        }
      ]
    },
    {
      "cell_type": "markdown",
      "source": [
        "**Writing and reading a file without closing a file.**"
      ],
      "metadata": {
        "id": "6iamd-s20F-M"
      }
    },
    {
      "cell_type": "code",
      "source": [
        "with open(\"dummy.txt\", \"w+\") as file:\n",
        "    file.write(\"Hello, Python file!\\n\")\n",
        "    file.write(\"Hello, JAVA file!\\n\")\n",
        "    file.seek(0)\n",
        "    content = file.read()\n",
        "    print(content)"
      ],
      "metadata": {
        "colab": {
          "base_uri": "https://localhost:8080/"
        },
        "id": "YI4R5aWc0MaT",
        "outputId": "b4574db8-a3bf-4f73-9c61-1550206e3da7"
      },
      "execution_count": 19,
      "outputs": [
        {
          "output_type": "stream",
          "name": "stdout",
          "text": [
            "Hello, Python file!\n",
            "Hello, JAVA file!\n",
            "\n"
          ]
        }
      ]
    },
    {
      "cell_type": "markdown",
      "source": [
        "**Create a new directory**"
      ],
      "metadata": {
        "id": "V4yKkkMP1uZx"
      }
    },
    {
      "cell_type": "code",
      "source": [
        "import os\n",
        "new_directory = \"new_directory\"\n",
        "os.mkdir(new_directory)\n",
        "print(f\"Directory '{new_directory}' created \")"
      ],
      "metadata": {
        "colab": {
          "base_uri": "https://localhost:8080/"
        },
        "id": "AterKfhy1xKB",
        "outputId": "b7e48f3b-1bfc-492e-cd52-4a24f222c57e"
      },
      "execution_count": 20,
      "outputs": [
        {
          "output_type": "stream",
          "name": "stdout",
          "text": [
            "Directory 'new_directory' created \n"
          ]
        }
      ]
    },
    {
      "cell_type": "markdown",
      "source": [
        "**Listing files and directories**"
      ],
      "metadata": {
        "id": "jfwHFMFw2C6g"
      }
    },
    {
      "cell_type": "code",
      "source": [
        "items = os.listdir()\n",
        "print(items)"
      ],
      "metadata": {
        "colab": {
          "base_uri": "https://localhost:8080/"
        },
        "id": "jRAVGkOa2GUg",
        "outputId": "871560f6-1e7b-4494-ddb1-b5f965fe1eb6"
      },
      "execution_count": 21,
      "outputs": [
        {
          "output_type": "stream",
          "name": "stdout",
          "text": [
            "['.config', 'dummy.txt', 'demofile.txt', 'destination.txt', 'new_directory', 'example.txt', 'drive', 'sample_data']\n"
          ]
        }
      ]
    },
    {
      "cell_type": "markdown",
      "source": [
        "**Creating a path**"
      ],
      "metadata": {
        "id": "UK4t32Yl2g4S"
      }
    },
    {
      "cell_type": "code",
      "source": [
        "dir_name = \"folder\"\n",
        "file_name = \"file.txt\"\n",
        "full_path = os.path.join(os.getcwd(), dir_name, file_name)\n",
        "print(full_path)"
      ],
      "metadata": {
        "colab": {
          "base_uri": "https://localhost:8080/"
        },
        "id": "yvviTzPf2jV3",
        "outputId": "f86a6557-d584-400e-dc90-b73d81880613"
      },
      "execution_count": 22,
      "outputs": [
        {
          "output_type": "stream",
          "name": "stdout",
          "text": [
            "/content/folder/file.txt\n"
          ]
        }
      ]
    },
    {
      "cell_type": "markdown",
      "source": [
        "**Check the path is a file/directory/neither file nor a directory**"
      ],
      "metadata": {
        "id": "ECH48Tx13LuQ"
      }
    },
    {
      "cell_type": "code",
      "source": [
        "import os\n",
        "path = \"example.txt\"\n",
        "if os.path.isfile(path):\n",
        "    print(f\"{path} is a file\")\n",
        "elif os.path.isdir(path):\n",
        "    print(f\"{path} is a directory\")\n",
        "else:\n",
        "    print(\"Neither a file nor a directory\")"
      ],
      "metadata": {
        "colab": {
          "base_uri": "https://localhost:8080/"
        },
        "id": "q9owcnMv31lX",
        "outputId": "dd6dfdfd-8e9b-4481-9ed5-501301377cb9"
      },
      "execution_count": 23,
      "outputs": [
        {
          "output_type": "stream",
          "name": "stdout",
          "text": [
            "example.txt is a file\n"
          ]
        }
      ]
    },
    {
      "cell_type": "markdown",
      "source": [
        "**Find the absolute path:**"
      ],
      "metadata": {
        "id": "aez7EXMt4I4W"
      }
    },
    {
      "cell_type": "code",
      "source": [
        "relative_path = \"example.txt\"\n",
        "absolute_path = os.path.abspath(relative_path)\n",
        "print(absolute_path)"
      ],
      "metadata": {
        "colab": {
          "base_uri": "https://localhost:8080/"
        },
        "id": "2Y-JR0_n4MW-",
        "outputId": "72adb3b1-ac6b-4f78-b35a-a587fe081ebf"
      },
      "execution_count": 24,
      "outputs": [
        {
          "output_type": "stream",
          "name": "stdout",
          "text": [
            "/content/example.txt\n"
          ]
        }
      ]
    },
    {
      "cell_type": "markdown",
      "source": [
        "Why is File Handling Important? <br>\n",
        "1. To store user data (logs, preferences, records) <br>\n",
        "2. For data processing (reading CSVs, config files, etc.) <br>\n",
        "3. To export results (report generation, file-based outputs) <br>\n",
        "4. Used heavily in web, data science, and automation tasks <br>"
      ],
      "metadata": {
        "id": "2JEsWlXuv3sh"
      }
    }
  ]
}